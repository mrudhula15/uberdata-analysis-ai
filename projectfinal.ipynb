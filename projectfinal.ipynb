{
  "nbformat": 4,
  "nbformat_minor": 0,
  "metadata": {
    "colab": {
      "provenance": []
    },
    "kernelspec": {
      "name": "python3",
      "display_name": "Python 3"
    },
    "language_info": {
      "name": "python"
    }
  },
  "cells": [
    {
      "cell_type": "code",
      "execution_count": null,
      "metadata": {
        "id": "ifhzSozkOO1a"
      },
      "outputs": [],
      "source": [
        "import pandas as pd\n",
        "df=pd.read_csv(\"rideshare_kaggle.csv\")"
      ]
    },
    {
      "cell_type": "code",
      "source": [
        "df.head()"
      ],
      "metadata": {
        "colab": {
          "base_uri": "https://localhost:8080/",
          "height": 560
        },
        "id": "mH7bflNJPzao",
        "outputId": "110ffc7c-6f4b-47c8-8bff-c6e5cdf6c534"
      },
      "execution_count": null,
      "outputs": [
        {
          "output_type": "execute_result",
          "data": {
            "text/plain": [
              "                                     id     timestamp  hour  day  month  \\\n",
              "0  424553bb-7174-41ea-aeb4-fe06d4f4b9d7  1.544953e+09     9   16     12   \n",
              "1  4bd23055-6827-41c6-b23b-3c491f24e74d  1.543284e+09     2   27     11   \n",
              "2  981a3613-77af-4620-a42a-0c0866077d1e  1.543367e+09     1   28     11   \n",
              "3  c2d88af2-d278-4bfd-a8d0-29ca77cc5512  1.543554e+09     4   30     11   \n",
              "4  e0126e1f-8ca9-4f2e-82b3-50505a09db9a  1.543463e+09     3   29     11   \n",
              "\n",
              "              datetime          timezone            source    destination  \\\n",
              "0  2018-12-16 09:30:07  America/New_York  Haymarket Square  North Station   \n",
              "1  2018-11-27 02:00:23  America/New_York  Haymarket Square  North Station   \n",
              "2  2018-11-28 01:00:22  America/New_York  Haymarket Square  North Station   \n",
              "3  2018-11-30 04:53:02  America/New_York  Haymarket Square  North Station   \n",
              "4  2018-11-29 03:49:20  America/New_York  Haymarket Square  North Station   \n",
              "\n",
              "  cab_type  ... precipIntensityMax uvIndexTime  temperatureMin  \\\n",
              "0     Lyft  ...             0.1276  1544979600           39.89   \n",
              "1     Lyft  ...             0.1300  1543251600           40.49   \n",
              "2     Lyft  ...             0.1064  1543338000           35.36   \n",
              "3     Lyft  ...             0.0000  1543507200           34.67   \n",
              "4     Lyft  ...             0.0001  1543420800           33.10   \n",
              "\n",
              "   temperatureMinTime  temperatureMax  temperatureMaxTime  \\\n",
              "0          1545012000           43.68          1544968800   \n",
              "1          1543233600           47.30          1543251600   \n",
              "2          1543377600           47.55          1543320000   \n",
              "3          1543550400           45.03          1543510800   \n",
              "4          1543402800           42.18          1543420800   \n",
              "\n",
              "   apparentTemperatureMin  apparentTemperatureMinTime  apparentTemperatureMax  \\\n",
              "0                   33.73                1.545012e+09                   38.07   \n",
              "1                   36.20                1.543291e+09                   43.92   \n",
              "2                   31.04                1.543378e+09                   44.12   \n",
              "3                   30.30                1.543550e+09                   38.53   \n",
              "4                   29.11                1.543392e+09                   35.75   \n",
              "\n",
              "  apparentTemperatureMaxTime  \n",
              "0               1.544958e+09  \n",
              "1               1.543252e+09  \n",
              "2               1.543320e+09  \n",
              "3               1.543511e+09  \n",
              "4               1.543421e+09  \n",
              "\n",
              "[5 rows x 57 columns]"
            ],
            "text/html": [
              "\n",
              "  <div id=\"df-6974cbcc-6962-402a-a21c-72e6fc7630a5\">\n",
              "    <div class=\"colab-df-container\">\n",
              "      <div>\n",
              "<style scoped>\n",
              "    .dataframe tbody tr th:only-of-type {\n",
              "        vertical-align: middle;\n",
              "    }\n",
              "\n",
              "    .dataframe tbody tr th {\n",
              "        vertical-align: top;\n",
              "    }\n",
              "\n",
              "    .dataframe thead th {\n",
              "        text-align: right;\n",
              "    }\n",
              "</style>\n",
              "<table border=\"1\" class=\"dataframe\">\n",
              "  <thead>\n",
              "    <tr style=\"text-align: right;\">\n",
              "      <th></th>\n",
              "      <th>id</th>\n",
              "      <th>timestamp</th>\n",
              "      <th>hour</th>\n",
              "      <th>day</th>\n",
              "      <th>month</th>\n",
              "      <th>datetime</th>\n",
              "      <th>timezone</th>\n",
              "      <th>source</th>\n",
              "      <th>destination</th>\n",
              "      <th>cab_type</th>\n",
              "      <th>...</th>\n",
              "      <th>precipIntensityMax</th>\n",
              "      <th>uvIndexTime</th>\n",
              "      <th>temperatureMin</th>\n",
              "      <th>temperatureMinTime</th>\n",
              "      <th>temperatureMax</th>\n",
              "      <th>temperatureMaxTime</th>\n",
              "      <th>apparentTemperatureMin</th>\n",
              "      <th>apparentTemperatureMinTime</th>\n",
              "      <th>apparentTemperatureMax</th>\n",
              "      <th>apparentTemperatureMaxTime</th>\n",
              "    </tr>\n",
              "  </thead>\n",
              "  <tbody>\n",
              "    <tr>\n",
              "      <th>0</th>\n",
              "      <td>424553bb-7174-41ea-aeb4-fe06d4f4b9d7</td>\n",
              "      <td>1.544953e+09</td>\n",
              "      <td>9</td>\n",
              "      <td>16</td>\n",
              "      <td>12</td>\n",
              "      <td>2018-12-16 09:30:07</td>\n",
              "      <td>America/New_York</td>\n",
              "      <td>Haymarket Square</td>\n",
              "      <td>North Station</td>\n",
              "      <td>Lyft</td>\n",
              "      <td>...</td>\n",
              "      <td>0.1276</td>\n",
              "      <td>1544979600</td>\n",
              "      <td>39.89</td>\n",
              "      <td>1545012000</td>\n",
              "      <td>43.68</td>\n",
              "      <td>1544968800</td>\n",
              "      <td>33.73</td>\n",
              "      <td>1.545012e+09</td>\n",
              "      <td>38.07</td>\n",
              "      <td>1.544958e+09</td>\n",
              "    </tr>\n",
              "    <tr>\n",
              "      <th>1</th>\n",
              "      <td>4bd23055-6827-41c6-b23b-3c491f24e74d</td>\n",
              "      <td>1.543284e+09</td>\n",
              "      <td>2</td>\n",
              "      <td>27</td>\n",
              "      <td>11</td>\n",
              "      <td>2018-11-27 02:00:23</td>\n",
              "      <td>America/New_York</td>\n",
              "      <td>Haymarket Square</td>\n",
              "      <td>North Station</td>\n",
              "      <td>Lyft</td>\n",
              "      <td>...</td>\n",
              "      <td>0.1300</td>\n",
              "      <td>1543251600</td>\n",
              "      <td>40.49</td>\n",
              "      <td>1543233600</td>\n",
              "      <td>47.30</td>\n",
              "      <td>1543251600</td>\n",
              "      <td>36.20</td>\n",
              "      <td>1.543291e+09</td>\n",
              "      <td>43.92</td>\n",
              "      <td>1.543252e+09</td>\n",
              "    </tr>\n",
              "    <tr>\n",
              "      <th>2</th>\n",
              "      <td>981a3613-77af-4620-a42a-0c0866077d1e</td>\n",
              "      <td>1.543367e+09</td>\n",
              "      <td>1</td>\n",
              "      <td>28</td>\n",
              "      <td>11</td>\n",
              "      <td>2018-11-28 01:00:22</td>\n",
              "      <td>America/New_York</td>\n",
              "      <td>Haymarket Square</td>\n",
              "      <td>North Station</td>\n",
              "      <td>Lyft</td>\n",
              "      <td>...</td>\n",
              "      <td>0.1064</td>\n",
              "      <td>1543338000</td>\n",
              "      <td>35.36</td>\n",
              "      <td>1543377600</td>\n",
              "      <td>47.55</td>\n",
              "      <td>1543320000</td>\n",
              "      <td>31.04</td>\n",
              "      <td>1.543378e+09</td>\n",
              "      <td>44.12</td>\n",
              "      <td>1.543320e+09</td>\n",
              "    </tr>\n",
              "    <tr>\n",
              "      <th>3</th>\n",
              "      <td>c2d88af2-d278-4bfd-a8d0-29ca77cc5512</td>\n",
              "      <td>1.543554e+09</td>\n",
              "      <td>4</td>\n",
              "      <td>30</td>\n",
              "      <td>11</td>\n",
              "      <td>2018-11-30 04:53:02</td>\n",
              "      <td>America/New_York</td>\n",
              "      <td>Haymarket Square</td>\n",
              "      <td>North Station</td>\n",
              "      <td>Lyft</td>\n",
              "      <td>...</td>\n",
              "      <td>0.0000</td>\n",
              "      <td>1543507200</td>\n",
              "      <td>34.67</td>\n",
              "      <td>1543550400</td>\n",
              "      <td>45.03</td>\n",
              "      <td>1543510800</td>\n",
              "      <td>30.30</td>\n",
              "      <td>1.543550e+09</td>\n",
              "      <td>38.53</td>\n",
              "      <td>1.543511e+09</td>\n",
              "    </tr>\n",
              "    <tr>\n",
              "      <th>4</th>\n",
              "      <td>e0126e1f-8ca9-4f2e-82b3-50505a09db9a</td>\n",
              "      <td>1.543463e+09</td>\n",
              "      <td>3</td>\n",
              "      <td>29</td>\n",
              "      <td>11</td>\n",
              "      <td>2018-11-29 03:49:20</td>\n",
              "      <td>America/New_York</td>\n",
              "      <td>Haymarket Square</td>\n",
              "      <td>North Station</td>\n",
              "      <td>Lyft</td>\n",
              "      <td>...</td>\n",
              "      <td>0.0001</td>\n",
              "      <td>1543420800</td>\n",
              "      <td>33.10</td>\n",
              "      <td>1543402800</td>\n",
              "      <td>42.18</td>\n",
              "      <td>1543420800</td>\n",
              "      <td>29.11</td>\n",
              "      <td>1.543392e+09</td>\n",
              "      <td>35.75</td>\n",
              "      <td>1.543421e+09</td>\n",
              "    </tr>\n",
              "  </tbody>\n",
              "</table>\n",
              "<p>5 rows × 57 columns</p>\n",
              "</div>\n",
              "      <button class=\"colab-df-convert\" onclick=\"convertToInteractive('df-6974cbcc-6962-402a-a21c-72e6fc7630a5')\"\n",
              "              title=\"Convert this dataframe to an interactive table.\"\n",
              "              style=\"display:none;\">\n",
              "        \n",
              "  <svg xmlns=\"http://www.w3.org/2000/svg\" height=\"24px\"viewBox=\"0 0 24 24\"\n",
              "       width=\"24px\">\n",
              "    <path d=\"M0 0h24v24H0V0z\" fill=\"none\"/>\n",
              "    <path d=\"M18.56 5.44l.94 2.06.94-2.06 2.06-.94-2.06-.94-.94-2.06-.94 2.06-2.06.94zm-11 1L8.5 8.5l.94-2.06 2.06-.94-2.06-.94L8.5 2.5l-.94 2.06-2.06.94zm10 10l.94 2.06.94-2.06 2.06-.94-2.06-.94-.94-2.06-.94 2.06-2.06.94z\"/><path d=\"M17.41 7.96l-1.37-1.37c-.4-.4-.92-.59-1.43-.59-.52 0-1.04.2-1.43.59L10.3 9.45l-7.72 7.72c-.78.78-.78 2.05 0 2.83L4 21.41c.39.39.9.59 1.41.59.51 0 1.02-.2 1.41-.59l7.78-7.78 2.81-2.81c.8-.78.8-2.07 0-2.86zM5.41 20L4 18.59l7.72-7.72 1.47 1.35L5.41 20z\"/>\n",
              "  </svg>\n",
              "      </button>\n",
              "      \n",
              "  <style>\n",
              "    .colab-df-container {\n",
              "      display:flex;\n",
              "      flex-wrap:wrap;\n",
              "      gap: 12px;\n",
              "    }\n",
              "\n",
              "    .colab-df-convert {\n",
              "      background-color: #E8F0FE;\n",
              "      border: none;\n",
              "      border-radius: 50%;\n",
              "      cursor: pointer;\n",
              "      display: none;\n",
              "      fill: #1967D2;\n",
              "      height: 32px;\n",
              "      padding: 0 0 0 0;\n",
              "      width: 32px;\n",
              "    }\n",
              "\n",
              "    .colab-df-convert:hover {\n",
              "      background-color: #E2EBFA;\n",
              "      box-shadow: 0px 1px 2px rgba(60, 64, 67, 0.3), 0px 1px 3px 1px rgba(60, 64, 67, 0.15);\n",
              "      fill: #174EA6;\n",
              "    }\n",
              "\n",
              "    [theme=dark] .colab-df-convert {\n",
              "      background-color: #3B4455;\n",
              "      fill: #D2E3FC;\n",
              "    }\n",
              "\n",
              "    [theme=dark] .colab-df-convert:hover {\n",
              "      background-color: #434B5C;\n",
              "      box-shadow: 0px 1px 3px 1px rgba(0, 0, 0, 0.15);\n",
              "      filter: drop-shadow(0px 1px 2px rgba(0, 0, 0, 0.3));\n",
              "      fill: #FFFFFF;\n",
              "    }\n",
              "  </style>\n",
              "\n",
              "      <script>\n",
              "        const buttonEl =\n",
              "          document.querySelector('#df-6974cbcc-6962-402a-a21c-72e6fc7630a5 button.colab-df-convert');\n",
              "        buttonEl.style.display =\n",
              "          google.colab.kernel.accessAllowed ? 'block' : 'none';\n",
              "\n",
              "        async function convertToInteractive(key) {\n",
              "          const element = document.querySelector('#df-6974cbcc-6962-402a-a21c-72e6fc7630a5');\n",
              "          const dataTable =\n",
              "            await google.colab.kernel.invokeFunction('convertToInteractive',\n",
              "                                                     [key], {});\n",
              "          if (!dataTable) return;\n",
              "\n",
              "          const docLinkHtml = 'Like what you see? Visit the ' +\n",
              "            '<a target=\"_blank\" href=https://colab.research.google.com/notebooks/data_table.ipynb>data table notebook</a>'\n",
              "            + ' to learn more about interactive tables.';\n",
              "          element.innerHTML = '';\n",
              "          dataTable['output_type'] = 'display_data';\n",
              "          await google.colab.output.renderOutput(dataTable, element);\n",
              "          const docLink = document.createElement('div');\n",
              "          docLink.innerHTML = docLinkHtml;\n",
              "          element.appendChild(docLink);\n",
              "        }\n",
              "      </script>\n",
              "    </div>\n",
              "  </div>\n",
              "  "
            ]
          },
          "metadata": {},
          "execution_count": 4
        }
      ]
    },
    {
      "cell_type": "code",
      "source": [
        "df.shape"
      ],
      "metadata": {
        "colab": {
          "base_uri": "https://localhost:8080/"
        },
        "id": "UKyIm_ahQIq2",
        "outputId": "27366cfd-aee6-475a-8eb4-69384c31c2f9"
      },
      "execution_count": null,
      "outputs": [
        {
          "output_type": "execute_result",
          "data": {
            "text/plain": [
              "(31629, 57)"
            ]
          },
          "metadata": {},
          "execution_count": 6
        }
      ]
    },
    {
      "cell_type": "code",
      "source": [
        "df.size"
      ],
      "metadata": {
        "colab": {
          "base_uri": "https://localhost:8080/"
        },
        "id": "Tre3MymWZnWy",
        "outputId": "40370a44-7e46-4fad-c011-b93b6dfd6a7b"
      },
      "execution_count": null,
      "outputs": [
        {
          "output_type": "execute_result",
          "data": {
            "text/plain": [
              "4508757"
            ]
          },
          "metadata": {},
          "execution_count": 27
        }
      ]
    },
    {
      "cell_type": "code",
      "source": [
        "df.index"
      ],
      "metadata": {
        "colab": {
          "base_uri": "https://localhost:8080/"
        },
        "id": "bzL0MPRfZqAh",
        "outputId": "e64780d8-8c78-4f87-91c0-9cd3b353385c"
      },
      "execution_count": null,
      "outputs": [
        {
          "output_type": "execute_result",
          "data": {
            "text/plain": [
              "RangeIndex(start=0, stop=79101, step=1)"
            ]
          },
          "metadata": {},
          "execution_count": 28
        }
      ]
    },
    {
      "cell_type": "code",
      "source": [
        "df.columns"
      ],
      "metadata": {
        "colab": {
          "base_uri": "https://localhost:8080/"
        },
        "id": "fOtl7nfYaysY",
        "outputId": "90abdbc7-8c8e-4bc1-97e0-b9bb2ebc7eac"
      },
      "execution_count": null,
      "outputs": [
        {
          "output_type": "execute_result",
          "data": {
            "text/plain": [
              "Index(['id', 'timestamp', 'hour', 'day', 'month', 'datetime', 'timezone',\n",
              "       'source', 'destination', 'cab_type', 'product_id', 'name', 'price',\n",
              "       'distance', 'surge_multiplier', 'latitude', 'longitude', 'temperature',\n",
              "       'apparentTemperature', 'short_summary', 'long_summary',\n",
              "       'precipIntensity', 'precipProbability', 'humidity', 'windSpeed',\n",
              "       'windGust', 'windGustTime', 'visibility', 'temperatureHigh',\n",
              "       'temperatureHighTime', 'temperatureLow', 'temperatureLowTime',\n",
              "       'apparentTemperatureHigh', 'apparentTemperatureHighTime',\n",
              "       'apparentTemperatureLow', 'apparentTemperatureLowTime', 'icon',\n",
              "       'dewPoint', 'pressure', 'windBearing', 'cloudCover', 'uvIndex',\n",
              "       'visibility.1', 'ozone', 'sunriseTime', 'sunsetTime', 'moonPhase',\n",
              "       'precipIntensityMax', 'uvIndexTime', 'temperatureMin',\n",
              "       'temperatureMinTime', 'temperatureMax', 'temperatureMaxTime',\n",
              "       'apparentTemperatureMin', 'apparentTemperatureMinTime',\n",
              "       'apparentTemperatureMax', 'apparentTemperatureMaxTime'],\n",
              "      dtype='object')"
            ]
          },
          "metadata": {},
          "execution_count": 30
        }
      ]
    },
    {
      "cell_type": "code",
      "source": [
        "df.dtypes"
      ],
      "metadata": {
        "colab": {
          "base_uri": "https://localhost:8080/"
        },
        "id": "mt1KRltNawzZ",
        "outputId": "8a73bff1-730b-4cea-8d30-5a1a4658b8e8"
      },
      "execution_count": null,
      "outputs": [
        {
          "output_type": "execute_result",
          "data": {
            "text/plain": [
              "id                              object\n",
              "timestamp                      float64\n",
              "hour                             int64\n",
              "day                              int64\n",
              "month                            int64\n",
              "datetime                        object\n",
              "timezone                        object\n",
              "source                          object\n",
              "destination                     object\n",
              "cab_type                        object\n",
              "product_id                      object\n",
              "name                            object\n",
              "price                          float64\n",
              "distance                       float64\n",
              "surge_multiplier               float64\n",
              "latitude                       float64\n",
              "longitude                      float64\n",
              "temperature                    float64\n",
              "apparentTemperature            float64\n",
              "short_summary                   object\n",
              "long_summary                    object\n",
              "precipIntensity                float64\n",
              "precipProbability              float64\n",
              "humidity                       float64\n",
              "windSpeed                      float64\n",
              "windGust                       float64\n",
              "windGustTime                   float64\n",
              "visibility                     float64\n",
              "temperatureHigh                float64\n",
              "temperatureHighTime            float64\n",
              "temperatureLow                 float64\n",
              "temperatureLowTime             float64\n",
              "apparentTemperatureHigh        float64\n",
              "apparentTemperatureHighTime    float64\n",
              "apparentTemperatureLow         float64\n",
              "apparentTemperatureLowTime     float64\n",
              "icon                            object\n",
              "dewPoint                       float64\n",
              "pressure                       float64\n",
              "windBearing                    float64\n",
              "cloudCover                     float64\n",
              "uvIndex                        float64\n",
              "visibility.1                   float64\n",
              "ozone                          float64\n",
              "sunriseTime                    float64\n",
              "sunsetTime                     float64\n",
              "moonPhase                      float64\n",
              "precipIntensityMax             float64\n",
              "uvIndexTime                    float64\n",
              "temperatureMin                 float64\n",
              "temperatureMinTime             float64\n",
              "temperatureMax                 float64\n",
              "temperatureMaxTime             float64\n",
              "apparentTemperatureMin         float64\n",
              "apparentTemperatureMinTime     float64\n",
              "apparentTemperatureMax         float64\n",
              "apparentTemperatureMaxTime     float64\n",
              "dtype: object"
            ]
          },
          "metadata": {},
          "execution_count": 29
        }
      ]
    },
    {
      "cell_type": "code",
      "source": [
        "df.info()"
      ],
      "metadata": {
        "colab": {
          "base_uri": "https://localhost:8080/"
        },
        "id": "cbjYJyr_RbT2",
        "outputId": "b0ebf394-8898-4bbb-c18a-99fb56366bab"
      },
      "execution_count": null,
      "outputs": [
        {
          "output_type": "stream",
          "name": "stdout",
          "text": [
            "<class 'pandas.core.frame.DataFrame'>\n",
            "RangeIndex: 79101 entries, 0 to 79100\n",
            "Data columns (total 57 columns):\n",
            " #   Column                       Non-Null Count  Dtype  \n",
            "---  ------                       --------------  -----  \n",
            " 0   id                           79101 non-null  object \n",
            " 1   timestamp                    79101 non-null  float64\n",
            " 2   hour                         79101 non-null  int64  \n",
            " 3   day                          79101 non-null  int64  \n",
            " 4   month                        79101 non-null  int64  \n",
            " 5   datetime                     79101 non-null  object \n",
            " 6   timezone                     79101 non-null  object \n",
            " 7   source                       79101 non-null  object \n",
            " 8   destination                  79101 non-null  object \n",
            " 9   cab_type                     79101 non-null  object \n",
            " 10  product_id                   79101 non-null  object \n",
            " 11  name                         79101 non-null  object \n",
            " 12  price                        72879 non-null  float64\n",
            " 13  distance                     79101 non-null  float64\n",
            " 14  surge_multiplier             79101 non-null  float64\n",
            " 15  latitude                     79101 non-null  float64\n",
            " 16  longitude                    79101 non-null  float64\n",
            " 17  temperature                  79101 non-null  float64\n",
            " 18  apparentTemperature          79101 non-null  float64\n",
            " 19  short_summary                79101 non-null  object \n",
            " 20  long_summary                 79101 non-null  object \n",
            " 21  precipIntensity              79101 non-null  float64\n",
            " 22  precipProbability            79101 non-null  float64\n",
            " 23  humidity                     79100 non-null  float64\n",
            " 24  windSpeed                    79100 non-null  float64\n",
            " 25  windGust                     79100 non-null  float64\n",
            " 26  windGustTime                 79100 non-null  float64\n",
            " 27  visibility                   79100 non-null  float64\n",
            " 28  temperatureHigh              79100 non-null  float64\n",
            " 29  temperatureHighTime          79100 non-null  float64\n",
            " 30  temperatureLow               79100 non-null  float64\n",
            " 31  temperatureLowTime           79100 non-null  float64\n",
            " 32  apparentTemperatureHigh      79100 non-null  float64\n",
            " 33  apparentTemperatureHighTime  79100 non-null  float64\n",
            " 34  apparentTemperatureLow       79100 non-null  float64\n",
            " 35  apparentTemperatureLowTime   79100 non-null  float64\n",
            " 36  icon                         79100 non-null  object \n",
            " 37  dewPoint                     79100 non-null  float64\n",
            " 38  pressure                     79100 non-null  float64\n",
            " 39  windBearing                  79100 non-null  float64\n",
            " 40  cloudCover                   79100 non-null  float64\n",
            " 41  uvIndex                      79100 non-null  float64\n",
            " 42  visibility.1                 79100 non-null  float64\n",
            " 43  ozone                        79100 non-null  float64\n",
            " 44  sunriseTime                  79100 non-null  float64\n",
            " 45  sunsetTime                   79100 non-null  float64\n",
            " 46  moonPhase                    79100 non-null  float64\n",
            " 47  precipIntensityMax           79100 non-null  float64\n",
            " 48  uvIndexTime                  79100 non-null  float64\n",
            " 49  temperatureMin               79100 non-null  float64\n",
            " 50  temperatureMinTime           79100 non-null  float64\n",
            " 51  temperatureMax               79100 non-null  float64\n",
            " 52  temperatureMaxTime           79100 non-null  float64\n",
            " 53  apparentTemperatureMin       79100 non-null  float64\n",
            " 54  apparentTemperatureMinTime   79100 non-null  float64\n",
            " 55  apparentTemperatureMax       79100 non-null  float64\n",
            " 56  apparentTemperatureMaxTime   79100 non-null  float64\n",
            "dtypes: float64(43), int64(3), object(11)\n",
            "memory usage: 34.4+ MB\n"
          ]
        }
      ]
    },
    {
      "cell_type": "code",
      "source": [
        "df.describe()"
      ],
      "metadata": {
        "colab": {
          "base_uri": "https://localhost:8080/",
          "height": 394
        },
        "id": "p8PjYeQSR3cr",
        "outputId": "42bb0d1c-3f3b-4859-bb35-7b017e3b6d98"
      },
      "execution_count": null,
      "outputs": [
        {
          "output_type": "execute_result",
          "data": {
            "text/plain": [
              "          timestamp          hour           day         month         price  \\\n",
              "count  7.910100e+04  79101.000000  79101.000000  79101.000000  72879.000000   \n",
              "mean   1.544032e+09     11.564810     18.007332     11.574203     16.572524   \n",
              "std    6.874164e+05      6.984642      9.981405      0.494466      9.364228   \n",
              "min    1.543204e+09      0.000000      1.000000     11.000000      2.500000   \n",
              "25%    1.543441e+09      5.000000     13.000000     11.000000      9.000000   \n",
              "50%    1.543723e+09     12.000000     17.000000     12.000000     13.500000   \n",
              "75%    1.544817e+09     18.000000     28.000000     12.000000     22.500000   \n",
              "max    1.545161e+09     23.000000     30.000000     12.000000     92.000000   \n",
              "\n",
              "           distance  surge_multiplier      latitude     longitude  \\\n",
              "count  79101.000000      79101.000000  79101.000000  79101.000000   \n",
              "mean       2.192278          1.015332     42.338381    -71.066173   \n",
              "std        1.138368          0.096541      0.047610      0.020234   \n",
              "min        0.020000          1.000000     42.214800    -71.105400   \n",
              "25%        1.270000          1.000000     42.350300    -71.081000   \n",
              "50%        2.160000          1.000000     42.351900    -71.063100   \n",
              "75%        2.940000          1.000000     42.364700    -71.054200   \n",
              "max        7.500000          3.000000     42.366100    -71.033000   \n",
              "\n",
              "        temperature  ...  precipIntensityMax   uvIndexTime  temperatureMin  \\\n",
              "count  79101.000000  ...        79100.000000  7.910000e+04    79100.000000   \n",
              "mean      39.550353  ...            0.037191  1.544030e+09       33.462433   \n",
              "std        6.689211  ...            0.055208  6.895451e+05        6.459673   \n",
              "min       18.910000  ...            0.000000  1.543162e+09       15.630000   \n",
              "25%       36.500000  ...            0.000000  1.543421e+09       30.170000   \n",
              "50%       40.490000  ...            0.000400  1.543684e+09       34.220000   \n",
              "75%       43.570000  ...            0.091600  1.544807e+09       38.880000   \n",
              "max       57.220000  ...            0.145900  1.545152e+09       43.100000   \n",
              "\n",
              "       temperatureMinTime  temperatureMax  temperatureMaxTime  \\\n",
              "count        7.910000e+04    79100.000000        7.910000e+04   \n",
              "mean         1.544027e+09       45.207065        1.544033e+09   \n",
              "std          6.887232e+05        5.603264        6.884103e+05   \n",
              "min          1.543122e+09       33.510000        1.543154e+09   \n",
              "25%          1.543399e+09       42.570000        1.543439e+09   \n",
              "50%          1.543666e+09       44.660000        1.543691e+09   \n",
              "75%          1.544789e+09       46.910000        1.544814e+09   \n",
              "max          1.545192e+09       57.870000        1.545109e+09   \n",
              "\n",
              "       apparentTemperatureMin  apparentTemperatureMinTime  \\\n",
              "count            79100.000000                7.910000e+04   \n",
              "mean                29.743694                1.544034e+09   \n",
              "std                  7.075763                6.856687e+05   \n",
              "min                 11.810000                1.543136e+09   \n",
              "25%                 27.760000                1.543399e+09   \n",
              "50%                 30.130000                1.543662e+09   \n",
              "75%                 35.330000                1.544789e+09   \n",
              "max                 40.050000                1.545134e+09   \n",
              "\n",
              "       apparentTemperatureMax  apparentTemperatureMaxTime  \n",
              "count            79100.000000                7.910000e+04  \n",
              "mean                41.896937                1.544034e+09  \n",
              "std                  6.901240                6.893840e+05  \n",
              "min                 28.950000                1.543187e+09  \n",
              "25%                 36.570000                1.543439e+09  \n",
              "50%                 40.690000                1.543691e+09  \n",
              "75%                 44.060000                1.544818e+09  \n",
              "max                 57.200000                1.545109e+09  \n",
              "\n",
              "[8 rows x 46 columns]"
            ],
            "text/html": [
              "\n",
              "  <div id=\"df-fd591d88-fc21-497c-83b1-86aeddf88d7e\">\n",
              "    <div class=\"colab-df-container\">\n",
              "      <div>\n",
              "<style scoped>\n",
              "    .dataframe tbody tr th:only-of-type {\n",
              "        vertical-align: middle;\n",
              "    }\n",
              "\n",
              "    .dataframe tbody tr th {\n",
              "        vertical-align: top;\n",
              "    }\n",
              "\n",
              "    .dataframe thead th {\n",
              "        text-align: right;\n",
              "    }\n",
              "</style>\n",
              "<table border=\"1\" class=\"dataframe\">\n",
              "  <thead>\n",
              "    <tr style=\"text-align: right;\">\n",
              "      <th></th>\n",
              "      <th>timestamp</th>\n",
              "      <th>hour</th>\n",
              "      <th>day</th>\n",
              "      <th>month</th>\n",
              "      <th>price</th>\n",
              "      <th>distance</th>\n",
              "      <th>surge_multiplier</th>\n",
              "      <th>latitude</th>\n",
              "      <th>longitude</th>\n",
              "      <th>temperature</th>\n",
              "      <th>...</th>\n",
              "      <th>precipIntensityMax</th>\n",
              "      <th>uvIndexTime</th>\n",
              "      <th>temperatureMin</th>\n",
              "      <th>temperatureMinTime</th>\n",
              "      <th>temperatureMax</th>\n",
              "      <th>temperatureMaxTime</th>\n",
              "      <th>apparentTemperatureMin</th>\n",
              "      <th>apparentTemperatureMinTime</th>\n",
              "      <th>apparentTemperatureMax</th>\n",
              "      <th>apparentTemperatureMaxTime</th>\n",
              "    </tr>\n",
              "  </thead>\n",
              "  <tbody>\n",
              "    <tr>\n",
              "      <th>count</th>\n",
              "      <td>7.910100e+04</td>\n",
              "      <td>79101.000000</td>\n",
              "      <td>79101.000000</td>\n",
              "      <td>79101.000000</td>\n",
              "      <td>72879.000000</td>\n",
              "      <td>79101.000000</td>\n",
              "      <td>79101.000000</td>\n",
              "      <td>79101.000000</td>\n",
              "      <td>79101.000000</td>\n",
              "      <td>79101.000000</td>\n",
              "      <td>...</td>\n",
              "      <td>79100.000000</td>\n",
              "      <td>7.910000e+04</td>\n",
              "      <td>79100.000000</td>\n",
              "      <td>7.910000e+04</td>\n",
              "      <td>79100.000000</td>\n",
              "      <td>7.910000e+04</td>\n",
              "      <td>79100.000000</td>\n",
              "      <td>7.910000e+04</td>\n",
              "      <td>79100.000000</td>\n",
              "      <td>7.910000e+04</td>\n",
              "    </tr>\n",
              "    <tr>\n",
              "      <th>mean</th>\n",
              "      <td>1.544032e+09</td>\n",
              "      <td>11.564810</td>\n",
              "      <td>18.007332</td>\n",
              "      <td>11.574203</td>\n",
              "      <td>16.572524</td>\n",
              "      <td>2.192278</td>\n",
              "      <td>1.015332</td>\n",
              "      <td>42.338381</td>\n",
              "      <td>-71.066173</td>\n",
              "      <td>39.550353</td>\n",
              "      <td>...</td>\n",
              "      <td>0.037191</td>\n",
              "      <td>1.544030e+09</td>\n",
              "      <td>33.462433</td>\n",
              "      <td>1.544027e+09</td>\n",
              "      <td>45.207065</td>\n",
              "      <td>1.544033e+09</td>\n",
              "      <td>29.743694</td>\n",
              "      <td>1.544034e+09</td>\n",
              "      <td>41.896937</td>\n",
              "      <td>1.544034e+09</td>\n",
              "    </tr>\n",
              "    <tr>\n",
              "      <th>std</th>\n",
              "      <td>6.874164e+05</td>\n",
              "      <td>6.984642</td>\n",
              "      <td>9.981405</td>\n",
              "      <td>0.494466</td>\n",
              "      <td>9.364228</td>\n",
              "      <td>1.138368</td>\n",
              "      <td>0.096541</td>\n",
              "      <td>0.047610</td>\n",
              "      <td>0.020234</td>\n",
              "      <td>6.689211</td>\n",
              "      <td>...</td>\n",
              "      <td>0.055208</td>\n",
              "      <td>6.895451e+05</td>\n",
              "      <td>6.459673</td>\n",
              "      <td>6.887232e+05</td>\n",
              "      <td>5.603264</td>\n",
              "      <td>6.884103e+05</td>\n",
              "      <td>7.075763</td>\n",
              "      <td>6.856687e+05</td>\n",
              "      <td>6.901240</td>\n",
              "      <td>6.893840e+05</td>\n",
              "    </tr>\n",
              "    <tr>\n",
              "      <th>min</th>\n",
              "      <td>1.543204e+09</td>\n",
              "      <td>0.000000</td>\n",
              "      <td>1.000000</td>\n",
              "      <td>11.000000</td>\n",
              "      <td>2.500000</td>\n",
              "      <td>0.020000</td>\n",
              "      <td>1.000000</td>\n",
              "      <td>42.214800</td>\n",
              "      <td>-71.105400</td>\n",
              "      <td>18.910000</td>\n",
              "      <td>...</td>\n",
              "      <td>0.000000</td>\n",
              "      <td>1.543162e+09</td>\n",
              "      <td>15.630000</td>\n",
              "      <td>1.543122e+09</td>\n",
              "      <td>33.510000</td>\n",
              "      <td>1.543154e+09</td>\n",
              "      <td>11.810000</td>\n",
              "      <td>1.543136e+09</td>\n",
              "      <td>28.950000</td>\n",
              "      <td>1.543187e+09</td>\n",
              "    </tr>\n",
              "    <tr>\n",
              "      <th>25%</th>\n",
              "      <td>1.543441e+09</td>\n",
              "      <td>5.000000</td>\n",
              "      <td>13.000000</td>\n",
              "      <td>11.000000</td>\n",
              "      <td>9.000000</td>\n",
              "      <td>1.270000</td>\n",
              "      <td>1.000000</td>\n",
              "      <td>42.350300</td>\n",
              "      <td>-71.081000</td>\n",
              "      <td>36.500000</td>\n",
              "      <td>...</td>\n",
              "      <td>0.000000</td>\n",
              "      <td>1.543421e+09</td>\n",
              "      <td>30.170000</td>\n",
              "      <td>1.543399e+09</td>\n",
              "      <td>42.570000</td>\n",
              "      <td>1.543439e+09</td>\n",
              "      <td>27.760000</td>\n",
              "      <td>1.543399e+09</td>\n",
              "      <td>36.570000</td>\n",
              "      <td>1.543439e+09</td>\n",
              "    </tr>\n",
              "    <tr>\n",
              "      <th>50%</th>\n",
              "      <td>1.543723e+09</td>\n",
              "      <td>12.000000</td>\n",
              "      <td>17.000000</td>\n",
              "      <td>12.000000</td>\n",
              "      <td>13.500000</td>\n",
              "      <td>2.160000</td>\n",
              "      <td>1.000000</td>\n",
              "      <td>42.351900</td>\n",
              "      <td>-71.063100</td>\n",
              "      <td>40.490000</td>\n",
              "      <td>...</td>\n",
              "      <td>0.000400</td>\n",
              "      <td>1.543684e+09</td>\n",
              "      <td>34.220000</td>\n",
              "      <td>1.543666e+09</td>\n",
              "      <td>44.660000</td>\n",
              "      <td>1.543691e+09</td>\n",
              "      <td>30.130000</td>\n",
              "      <td>1.543662e+09</td>\n",
              "      <td>40.690000</td>\n",
              "      <td>1.543691e+09</td>\n",
              "    </tr>\n",
              "    <tr>\n",
              "      <th>75%</th>\n",
              "      <td>1.544817e+09</td>\n",
              "      <td>18.000000</td>\n",
              "      <td>28.000000</td>\n",
              "      <td>12.000000</td>\n",
              "      <td>22.500000</td>\n",
              "      <td>2.940000</td>\n",
              "      <td>1.000000</td>\n",
              "      <td>42.364700</td>\n",
              "      <td>-71.054200</td>\n",
              "      <td>43.570000</td>\n",
              "      <td>...</td>\n",
              "      <td>0.091600</td>\n",
              "      <td>1.544807e+09</td>\n",
              "      <td>38.880000</td>\n",
              "      <td>1.544789e+09</td>\n",
              "      <td>46.910000</td>\n",
              "      <td>1.544814e+09</td>\n",
              "      <td>35.330000</td>\n",
              "      <td>1.544789e+09</td>\n",
              "      <td>44.060000</td>\n",
              "      <td>1.544818e+09</td>\n",
              "    </tr>\n",
              "    <tr>\n",
              "      <th>max</th>\n",
              "      <td>1.545161e+09</td>\n",
              "      <td>23.000000</td>\n",
              "      <td>30.000000</td>\n",
              "      <td>12.000000</td>\n",
              "      <td>92.000000</td>\n",
              "      <td>7.500000</td>\n",
              "      <td>3.000000</td>\n",
              "      <td>42.366100</td>\n",
              "      <td>-71.033000</td>\n",
              "      <td>57.220000</td>\n",
              "      <td>...</td>\n",
              "      <td>0.145900</td>\n",
              "      <td>1.545152e+09</td>\n",
              "      <td>43.100000</td>\n",
              "      <td>1.545192e+09</td>\n",
              "      <td>57.870000</td>\n",
              "      <td>1.545109e+09</td>\n",
              "      <td>40.050000</td>\n",
              "      <td>1.545134e+09</td>\n",
              "      <td>57.200000</td>\n",
              "      <td>1.545109e+09</td>\n",
              "    </tr>\n",
              "  </tbody>\n",
              "</table>\n",
              "<p>8 rows × 46 columns</p>\n",
              "</div>\n",
              "      <button class=\"colab-df-convert\" onclick=\"convertToInteractive('df-fd591d88-fc21-497c-83b1-86aeddf88d7e')\"\n",
              "              title=\"Convert this dataframe to an interactive table.\"\n",
              "              style=\"display:none;\">\n",
              "        \n",
              "  <svg xmlns=\"http://www.w3.org/2000/svg\" height=\"24px\"viewBox=\"0 0 24 24\"\n",
              "       width=\"24px\">\n",
              "    <path d=\"M0 0h24v24H0V0z\" fill=\"none\"/>\n",
              "    <path d=\"M18.56 5.44l.94 2.06.94-2.06 2.06-.94-2.06-.94-.94-2.06-.94 2.06-2.06.94zm-11 1L8.5 8.5l.94-2.06 2.06-.94-2.06-.94L8.5 2.5l-.94 2.06-2.06.94zm10 10l.94 2.06.94-2.06 2.06-.94-2.06-.94-.94-2.06-.94 2.06-2.06.94z\"/><path d=\"M17.41 7.96l-1.37-1.37c-.4-.4-.92-.59-1.43-.59-.52 0-1.04.2-1.43.59L10.3 9.45l-7.72 7.72c-.78.78-.78 2.05 0 2.83L4 21.41c.39.39.9.59 1.41.59.51 0 1.02-.2 1.41-.59l7.78-7.78 2.81-2.81c.8-.78.8-2.07 0-2.86zM5.41 20L4 18.59l7.72-7.72 1.47 1.35L5.41 20z\"/>\n",
              "  </svg>\n",
              "      </button>\n",
              "      \n",
              "  <style>\n",
              "    .colab-df-container {\n",
              "      display:flex;\n",
              "      flex-wrap:wrap;\n",
              "      gap: 12px;\n",
              "    }\n",
              "\n",
              "    .colab-df-convert {\n",
              "      background-color: #E8F0FE;\n",
              "      border: none;\n",
              "      border-radius: 50%;\n",
              "      cursor: pointer;\n",
              "      display: none;\n",
              "      fill: #1967D2;\n",
              "      height: 32px;\n",
              "      padding: 0 0 0 0;\n",
              "      width: 32px;\n",
              "    }\n",
              "\n",
              "    .colab-df-convert:hover {\n",
              "      background-color: #E2EBFA;\n",
              "      box-shadow: 0px 1px 2px rgba(60, 64, 67, 0.3), 0px 1px 3px 1px rgba(60, 64, 67, 0.15);\n",
              "      fill: #174EA6;\n",
              "    }\n",
              "\n",
              "    [theme=dark] .colab-df-convert {\n",
              "      background-color: #3B4455;\n",
              "      fill: #D2E3FC;\n",
              "    }\n",
              "\n",
              "    [theme=dark] .colab-df-convert:hover {\n",
              "      background-color: #434B5C;\n",
              "      box-shadow: 0px 1px 3px 1px rgba(0, 0, 0, 0.15);\n",
              "      filter: drop-shadow(0px 1px 2px rgba(0, 0, 0, 0.3));\n",
              "      fill: #FFFFFF;\n",
              "    }\n",
              "  </style>\n",
              "\n",
              "      <script>\n",
              "        const buttonEl =\n",
              "          document.querySelector('#df-fd591d88-fc21-497c-83b1-86aeddf88d7e button.colab-df-convert');\n",
              "        buttonEl.style.display =\n",
              "          google.colab.kernel.accessAllowed ? 'block' : 'none';\n",
              "\n",
              "        async function convertToInteractive(key) {\n",
              "          const element = document.querySelector('#df-fd591d88-fc21-497c-83b1-86aeddf88d7e');\n",
              "          const dataTable =\n",
              "            await google.colab.kernel.invokeFunction('convertToInteractive',\n",
              "                                                     [key], {});\n",
              "          if (!dataTable) return;\n",
              "\n",
              "          const docLinkHtml = 'Like what you see? Visit the ' +\n",
              "            '<a target=\"_blank\" href=https://colab.research.google.com/notebooks/data_table.ipynb>data table notebook</a>'\n",
              "            + ' to learn more about interactive tables.';\n",
              "          element.innerHTML = '';\n",
              "          dataTable['output_type'] = 'display_data';\n",
              "          await google.colab.output.renderOutput(dataTable, element);\n",
              "          const docLink = document.createElement('div');\n",
              "          docLink.innerHTML = docLinkHtml;\n",
              "          element.appendChild(docLink);\n",
              "        }\n",
              "      </script>\n",
              "    </div>\n",
              "  </div>\n",
              "  "
            ]
          },
          "metadata": {},
          "execution_count": 9
        }
      ]
    },
    {
      "cell_type": "code",
      "source": [
        "df.isnull().sum()"
      ],
      "metadata": {
        "colab": {
          "base_uri": "https://localhost:8080/"
        },
        "id": "o3rghW9mSp20",
        "outputId": "203f10d0-0902-4683-b080-ea7e925e6bd1"
      },
      "execution_count": null,
      "outputs": [
        {
          "output_type": "execute_result",
          "data": {
            "text/plain": [
              "id                                0\n",
              "timestamp                         0\n",
              "hour                              0\n",
              "day                               0\n",
              "month                             0\n",
              "datetime                          0\n",
              "timezone                          0\n",
              "source                            0\n",
              "destination                       0\n",
              "cab_type                          0\n",
              "product_id                        0\n",
              "name                              0\n",
              "price                          6222\n",
              "distance                          0\n",
              "surge_multiplier                  0\n",
              "latitude                          0\n",
              "longitude                         0\n",
              "temperature                       0\n",
              "apparentTemperature               0\n",
              "short_summary                     0\n",
              "long_summary                      0\n",
              "precipIntensity                   0\n",
              "precipProbability                 0\n",
              "humidity                          1\n",
              "windSpeed                         1\n",
              "windGust                          1\n",
              "windGustTime                      1\n",
              "visibility                        1\n",
              "temperatureHigh                   1\n",
              "temperatureHighTime               1\n",
              "temperatureLow                    1\n",
              "temperatureLowTime                1\n",
              "apparentTemperatureHigh           1\n",
              "apparentTemperatureHighTime       1\n",
              "apparentTemperatureLow            1\n",
              "apparentTemperatureLowTime        1\n",
              "icon                              1\n",
              "dewPoint                          1\n",
              "pressure                          1\n",
              "windBearing                       1\n",
              "cloudCover                        1\n",
              "uvIndex                           1\n",
              "visibility.1                      1\n",
              "ozone                             1\n",
              "sunriseTime                       1\n",
              "sunsetTime                        1\n",
              "moonPhase                         1\n",
              "precipIntensityMax                1\n",
              "uvIndexTime                       1\n",
              "temperatureMin                    1\n",
              "temperatureMinTime                1\n",
              "temperatureMax                    1\n",
              "temperatureMaxTime                1\n",
              "apparentTemperatureMin            1\n",
              "apparentTemperatureMinTime        1\n",
              "apparentTemperatureMax            1\n",
              "apparentTemperatureMaxTime        1\n",
              "dtype: int64"
            ]
          },
          "metadata": {},
          "execution_count": 10
        }
      ]
    },
    {
      "cell_type": "code",
      "source": [
        "import matplotlib.pyplot as plt\n",
        "import numpy as np\n",
        "%matplotlib inline\n",
        "import seaborn as sns\n",
        "import pandas as pd"
      ],
      "metadata": {
        "id": "MA0HfrSUThmE"
      },
      "execution_count": null,
      "outputs": []
    },
    {
      "cell_type": "code",
      "source": [
        "sns.stripplot(data=df, x='price', y='name')"
      ],
      "metadata": {
        "colab": {
          "base_uri": "https://localhost:8080/",
          "height": 296
        },
        "id": "LO06psAET-Ht",
        "outputId": "f1a08609-0803-4081-be34-24dc606364be"
      },
      "execution_count": null,
      "outputs": [
        {
          "output_type": "execute_result",
          "data": {
            "text/plain": [
              "<matplotlib.axes._subplots.AxesSubplot at 0x7f9b30996190>"
            ]
          },
          "metadata": {},
          "execution_count": 13
        },
        {
          "output_type": "display_data",
          "data": {
            "text/plain": [
              "<Figure size 432x288 with 1 Axes>"
            ],
            "image/png": "[encoded data removed]"
          },
          "metadata": {
            "needs_background": "light"
          }
        }
      ]
    },
    {
      "cell_type": "code",
      "source": [
        "sns.stripplot(data=df, x='price', y='icon')"
      ],
      "metadata": {
        "colab": {
          "base_uri": "https://localhost:8080/",
          "height": 296
        },
        "id": "Hs_lj9YoUX97",
        "outputId": "dc41c57c-8cd5-48c2-e941-1228fa84f1c7"
      },
      "execution_count": null,
      "outputs": [
        {
          "output_type": "execute_result",
          "data": {
            "text/plain": [
              "<matplotlib.axes._subplots.AxesSubplot at 0x7f9b30980150>"
            ]
          },
          "metadata": {},
          "execution_count": 14
        },
        {
          "output_type": "display_data",
          "data": {
            "text/plain": [
              "<Figure size 432x288 with 1 Axes>"
            ],
            "image/png": "[encoded data removed]"
          },
          "metadata": {
            "needs_background": "light"
          }
        }
      ]
    },
    {
      "cell_type": "code",
      "source": [
        "sns.stripplot(data=df, x='surge_multiplier', y='source')"
      ],
      "metadata": {
        "colab": {
          "base_uri": "https://localhost:8080/",
          "height": 297
        },
        "id": "JqueMOjLUpoH",
        "outputId": "3a1baec1-c4bf-4448-cf75-1d4c22d4be84"
      },
      "execution_count": null,
      "outputs": [
        {
          "output_type": "execute_result",
          "data": {
            "text/plain": [
              "<matplotlib.axes._subplots.AxesSubplot at 0x7f9b303dbf50>"
            ]
          },
          "metadata": {},
          "execution_count": 15
        },
        {
          "output_type": "display_data",
          "data": {
            "text/plain": [
              "<Figure size 432x288 with 1 Axes>"
            ],
            "image/png": "[encoded data removed]"
          },
          "metadata": {
            "needs_background": "light"
          }
        }
      ]
    },
    {
      "cell_type": "code",
      "source": [
        "sns.stripplot(data=df, x='surge_multiplier', y='hour')"
      ],
      "metadata": {
        "colab": {
          "base_uri": "https://localhost:8080/",
          "height": 297
        },
        "id": "c9QcXTi1U-Yv",
        "outputId": "7cf0aa22-473a-49cd-d382-886769567f96"
      },
      "execution_count": null,
      "outputs": [
        {
          "output_type": "execute_result",
          "data": {
            "text/plain": [
              "<matplotlib.axes._subplots.AxesSubplot at 0x7f9b303dca10>"
            ]
          },
          "metadata": {},
          "execution_count": 16
        },
        {
          "output_type": "display_data",
          "data": {
            "text/plain": [
              "<Figure size 432x288 with 1 Axes>"
            ],
            "image/png": "[encoded data removed]"
          },
          "metadata": {
            "needs_background": "light"
          }
        }
      ]
    },
    {
      "cell_type": "code",
      "source": [
        "df['timestamp'].head()"
      ],
      "metadata": {
        "colab": {
          "base_uri": "https://localhost:8080/"
        },
        "id": "9CFlsE8xVGJx",
        "outputId": "9abe9c6a-449e-4be0-ce65-2bb3627c0186"
      },
      "execution_count": null,
      "outputs": [
        {
          "output_type": "execute_result",
          "data": {
            "text/plain": [
              "0    1.544953e+09\n",
              "1    1.543284e+09\n",
              "2    1.543367e+09\n",
              "3    1.543554e+09\n",
              "4    1.543463e+09\n",
              "Name: timestamp, dtype: float64"
            ]
          },
          "metadata": {},
          "execution_count": 17
        }
      ]
    },
    {
      "cell_type": "code",
      "source": [
        "from datetime import datetime\n",
        "timestamp1 = 1544952608\n",
        "timestamp2 = 1543284024\n",
        "timestamp3 = 1543818483\n",
        "timestamp4 = 1543594384\n",
        "timestamp5 = 1544728504\n",
        "dt_object1 = datetime.fromtimestamp(timestamp1)\n",
        "dt_object2 = datetime.fromtimestamp(timestamp2)\n",
        "dt_object3 = datetime.fromtimestamp(timestamp3)\n",
        "dt_object4 = datetime.fromtimestamp(timestamp4)\n",
        "dt_object5 = datetime.fromtimestamp(timestamp5)\n",
        "\n",
        "print(\"dt_object =\", dt_object1)\n",
        "print(\"dt_object =\", dt_object2)\n",
        "print(\"dt_object =\", dt_object3)\n",
        "print(\"dt_object =\", dt_object4)\n",
        "print(\"dt_object =\", dt_object5)"
      ],
      "metadata": {
        "colab": {
          "base_uri": "https://localhost:8080/"
        },
        "id": "tYHfU-HSVxGH",
        "outputId": "05516bdc-5b47-4c3d-9e72-cdb21bd4d888"
      },
      "execution_count": null,
      "outputs": [
        {
          "output_type": "stream",
          "name": "stdout",
          "text": [
            "dt_object = 2018-12-16 09:30:08\n",
            "dt_object = 2018-11-27 02:00:24\n",
            "dt_object = 2018-12-03 06:28:03\n",
            "dt_object = 2018-11-30 16:13:04\n",
            "dt_object = 2018-12-13 19:15:04\n"
          ]
        }
      ]
    },
    {
      "cell_type": "code",
      "source": [
        "df['month'].value_counts().plot(kind='bar', figsize=(10,5), color='blue')"
      ],
      "metadata": {
        "colab": {
          "base_uri": "https://localhost:8080/",
          "height": 339
        },
        "id": "b2SpetCeWjhw",
        "outputId": "e853795a-9417-41d5-f3d0-d93f3e8f8c55"
      },
      "execution_count": null,
      "outputs": [
        {
          "output_type": "execute_result",
          "data": {
            "text/plain": [
              "<matplotlib.axes._subplots.AxesSubplot at 0x7f9b311a8290>"
            ]
          },
          "metadata": {},
          "execution_count": 19
        },
        {
          "output_type": "display_data",
          "data": {
            "text/plain": [
              "<Figure size 720x360 with 1 Axes>"
            ],
            "image/png": "[encoded data removed]"
          },
          "metadata": {
            "needs_background": "light"
          }
        }
      ]
    },
    {
      "cell_type": "code",
      "source": [
        "df['source'].value_counts().plot(kind='bar', figsize=(10,5), color='green')"
      ],
      "metadata": {
        "colab": {
          "base_uri": "https://localhost:8080/",
          "height": 446
        },
        "id": "DaS5tTzMW9bi",
        "outputId": "a4727f8b-560f-42e8-f786-2e48acbbbc51"
      },
      "execution_count": null,
      "outputs": [
        {
          "output_type": "execute_result",
          "data": {
            "text/plain": [
              "<matplotlib.axes._subplots.AxesSubplot at 0x7f9b30276850>"
            ]
          },
          "metadata": {},
          "execution_count": 20
        },
        {
          "output_type": "display_data",
          "data": {
            "text/plain": [
              "<Figure size 720x360 with 1 Axes>"
            ],
            "image/png": "[encoded data removed]"
          },
          "metadata": {
            "needs_background": "light"
          }
        }
      ]
    },
    {
      "cell_type": "code",
      "source": [
        "df['name'].value_counts().plot(kind='bar', figsize=(10,5), color='orange')"
      ],
      "metadata": {
        "colab": {
          "base_uri": "https://localhost:8080/",
          "height": 390
        },
        "id": "LJ4SyEMRXSeA",
        "outputId": "b8f08fc9-7bc7-4993-d823-a2b311899f56"
      },
      "execution_count": null,
      "outputs": [
        {
          "output_type": "execute_result",
          "data": {
            "text/plain": [
              "<matplotlib.axes._subplots.AxesSubplot at 0x7f9b30112810>"
            ]
          },
          "metadata": {},
          "execution_count": 21
        },
        {
          "output_type": "display_data",
          "data": {
            "text/plain": [
              "<Figure size 720x360 with 1 Axes>"
            ],
            "image/png": "[encoded data removed]"
          },
          "metadata": {
            "needs_background": "light"
          }
        }
      ]
    },
    {
      "cell_type": "code",
      "source": [
        "df['icon'].value_counts().plot(kind='bar', figsize=(10,5), color='red')"
      ],
      "metadata": {
        "colab": {
          "base_uri": "https://localhost:8080/",
          "height": 428
        },
        "id": "cyf2nU7HXxBj",
        "outputId": "f8744c65-5c82-41b1-b594-84167927ca44"
      },
      "execution_count": null,
      "outputs": [
        {
          "output_type": "execute_result",
          "data": {
            "text/plain": [
              "<matplotlib.axes._subplots.AxesSubplot at 0x7f9b3009c410>"
            ]
          },
          "metadata": {},
          "execution_count": 22
        },
        {
          "output_type": "display_data",
          "data": {
            "text/plain": [
              "<Figure size 720x360 with 1 Axes>"
            ],
            "image/png": "[encoded data removed]"
          },
          "metadata": {
            "needs_background": "light"
          }
        }
      ]
    },
    {
      "cell_type": "code",
      "source": [
        "df['uvIndex'].value_counts().plot(kind='bar', figsize=(10,5), color='brown')"
      ],
      "metadata": {
        "colab": {
          "base_uri": "https://localhost:8080/",
          "height": 344
        },
        "id": "hxeG6SbyYEXj",
        "outputId": "049132c7-3b94-4c42-a59e-ee34c29b9d84"
      },
      "execution_count": null,
      "outputs": [
        {
          "output_type": "execute_result",
          "data": {
            "text/plain": [
              "<matplotlib.axes._subplots.AxesSubplot at 0x7f9b3002e110>"
            ]
          },
          "metadata": {},
          "execution_count": 23
        },
        {
          "output_type": "display_data",
          "data": {
            "text/plain": [
              "<Figure size 720x360 with 1 Axes>"
            ],
            "image/png": "[encoded data removed]"
          },
          "metadata": {
            "needs_background": "light"
          }
        }
      ]
    },
    {
      "cell_type": "code",
      "source": [
        "df['moonPhase'].value_counts().plot(kind='bar', figsize=(10,5), color='orange')"
      ],
      "metadata": {
        "colab": {
          "base_uri": "https://localhost:8080/",
          "height": 349
        },
        "id": "UB3ZpFN5Yepu",
        "outputId": "70edf7d6-4a1a-4c41-e6e7-0d232ac9910b"
      },
      "execution_count": null,
      "outputs": [
        {
          "output_type": "execute_result",
          "data": {
            "text/plain": [
              "<matplotlib.axes._subplots.AxesSubplot at 0x7f9b2ffa7810>"
            ]
          },
          "metadata": {},
          "execution_count": 24
        },
        {
          "output_type": "display_data",
          "data": {
            "text/plain": [
              "<Figure size 720x360 with 1 Axes>"
            ],
            "image/png": "[encoded data removed]"
          },
          "metadata": {
            "needs_background": "light"
          }
        }
      ]
    },
    {
      "cell_type": "code",
      "source": [
        "df['precipProbability'].value_counts().plot(kind='bar', figsize=(10,5), color='blue')"
      ],
      "metadata": {
        "colab": {
          "base_uri": "https://localhost:8080/",
          "height": 349
        },
        "id": "zkGSb93fY2BZ",
        "outputId": "29578655-c5d2-439a-9ab1-00b01d716a86"
      },
      "execution_count": null,
      "outputs": [
        {
          "output_type": "execute_result",
          "data": {
            "text/plain": [
              "<matplotlib.axes._subplots.AxesSubplot at 0x7f9b2fef0110>"
            ]
          },
          "metadata": {},
          "execution_count": 25
        },
        {
          "output_type": "display_data",
          "data": {
            "text/plain": [
              "<Figure size 720x360 with 1 Axes>"
            ],
            "image/png": "[encoded data removed]"
          },
          "metadata": {
            "needs_background": "light"
          }
        }
      ]
    },
    {
      "cell_type": "code",
      "source": [
        "# Import label encoder \n",
        "from sklearn import preprocessing \n",
        "  \n",
        "# label_encoder object knows how to understand word labels. \n",
        "label_encoder = preprocessing.LabelEncoder() "
      ],
      "metadata": {
        "id": "f6m_hhNNZUAf"
      },
      "execution_count": null,
      "outputs": []
    },
    {
      "cell_type": "code",
      "source": [
        "df['id']= label_encoder.fit_transform(df['id']) \n",
        "df['datetime']= label_encoder.fit_transform(df['datetime']) \n",
        "df['timezone']= label_encoder.fit_transform(df['timezone'])\n",
        "df['destination']= label_encoder.fit_transform(df['destination']) \n",
        "df['product_id']= label_encoder.fit_transform(df['product_id'])\n",
        "df['short_summary']= label_encoder.fit_transform(df['short_summary'])\n",
        "df['long_summary']= label_encoder.fit_transform(df['long_summary'])"
      ],
      "metadata": {
        "id": "IqzpY7UBcVaI"
      },
      "execution_count": null,
      "outputs": []
    },
    {
      "cell_type": "code",
      "source": [
        "df['name']= label_encoder.fit_transform(df['name'])\n",
        "\n",
        "print(\"Class mapping of Name: \")\n",
        "for i, item in enumerate(label_encoder.classes_):\n",
        "    print(item, \"-->\", i)"
      ],
      "metadata": {
        "colab": {
          "base_uri": "https://localhost:8080/"
        },
        "id": "ZzKTDNrIdBIe",
        "outputId": "259512c2-fca1-453e-bed7-b4780e07ebe6"
      },
      "execution_count": null,
      "outputs": [
        {
          "output_type": "stream",
          "name": "stdout",
          "text": [
            "Class mapping of Name: \n",
            "Black --> 0\n",
            "Black SUV --> 1\n",
            "Lux --> 2\n",
            "Lux Black --> 3\n",
            "Lux Black XL --> 4\n",
            "Lyft --> 5\n",
            "Lyft XL --> 6\n",
            "Shared --> 7\n",
            "Taxi --> 8\n",
            "UberPool --> 9\n",
            "UberX --> 10\n",
            "UberXL --> 11\n",
            "WAV --> 12\n"
          ]
        }
      ]
    },
    {
      "cell_type": "code",
      "source": [
        "df.isnull().sum()"
      ],
      "metadata": {
        "colab": {
          "base_uri": "https://localhost:8080/"
        },
        "id": "47eSnf_GeAvQ",
        "outputId": "b77ec2cb-e72b-47d9-cd70-cea06d3bab8b"
      },
      "execution_count": null,
      "outputs": [
        {
          "output_type": "execute_result",
          "data": {
            "text/plain": [
              "id                             0\n",
              "timestamp                      0\n",
              "hour                           0\n",
              "day                            0\n",
              "month                          0\n",
              "datetime                       0\n",
              "timezone                       0\n",
              "source                         0\n",
              "destination                    0\n",
              "cab_type                       0\n",
              "product_id                     0\n",
              "name                           0\n",
              "price                          0\n",
              "distance                       0\n",
              "surge_multiplier               0\n",
              "latitude                       0\n",
              "longitude                      0\n",
              "temperature                    0\n",
              "apparentTemperature            0\n",
              "short_summary                  0\n",
              "long_summary                   0\n",
              "precipIntensity                0\n",
              "precipProbability              0\n",
              "humidity                       1\n",
              "windSpeed                      1\n",
              "windGust                       1\n",
              "windGustTime                   1\n",
              "visibility                     1\n",
              "temperatureHigh                1\n",
              "temperatureHighTime            1\n",
              "temperatureLow                 1\n",
              "temperatureLowTime             1\n",
              "apparentTemperatureHigh        1\n",
              "apparentTemperatureHighTime    1\n",
              "apparentTemperatureLow         1\n",
              "apparentTemperatureLowTime     1\n",
              "icon                           1\n",
              "dewPoint                       1\n",
              "pressure                       1\n",
              "windBearing                    1\n",
              "cloudCover                     1\n",
              "uvIndex                        1\n",
              "visibility.1                   1\n",
              "ozone                          1\n",
              "sunriseTime                    1\n",
              "sunsetTime                     1\n",
              "moonPhase                      1\n",
              "precipIntensityMax             1\n",
              "uvIndexTime                    1\n",
              "temperatureMin                 1\n",
              "temperatureMinTime             1\n",
              "temperatureMax                 1\n",
              "temperatureMaxTime             1\n",
              "apparentTemperatureMin         1\n",
              "apparentTemperatureMinTime     1\n",
              "apparentTemperatureMax         1\n",
              "apparentTemperatureMaxTime     1\n",
              "dtype: int64"
            ]
          },
          "metadata": {},
          "execution_count": 40
        }
      ]
    },
    {
      "cell_type": "code",
      "source": [
        "df['price'].median()"
      ],
      "metadata": {
        "colab": {
          "base_uri": "https://localhost:8080/"
        },
        "id": "lfUVsmgldUen",
        "outputId": "4759511d-4cac-4b68-f3d9-f6786e20176b"
      },
      "execution_count": null,
      "outputs": [
        {
          "output_type": "execute_result",
          "data": {
            "text/plain": [
              "13.5"
            ]
          },
          "metadata": {},
          "execution_count": 38
        }
      ]
    },
    {
      "cell_type": "code",
      "source": [
        "df['price'].dtype"
      ],
      "metadata": {
        "colab": {
          "base_uri": "https://localhost:8080/"
        },
        "id": "uCn1xmugePjH",
        "outputId": "c14c3cb3-c31f-454f-dac4-65905fe5552b"
      },
      "execution_count": null,
      "outputs": [
        {
          "output_type": "execute_result",
          "data": {
            "text/plain": [
              "dtype('float64')"
            ]
          },
          "metadata": {},
          "execution_count": 41
        }
      ]
    },
    {
      "cell_type": "code",
      "source": [
        "df['price'] = df['price'].astype(int)"
      ],
      "metadata": {
        "id": "Ks8hN-EeehuM"
      },
      "execution_count": null,
      "outputs": []
    },
    {
      "cell_type": "code",
      "source": [
        "df['price'].head()"
      ],
      "metadata": {
        "colab": {
          "base_uri": "https://localhost:8080/"
        },
        "id": "Zpo9erWOeslK",
        "outputId": "d4446035-0c30-4832-a472-92a31d1e3baf"
      },
      "execution_count": null,
      "outputs": [
        {
          "output_type": "execute_result",
          "data": {
            "text/plain": [
              "0     5\n",
              "1    11\n",
              "2     7\n",
              "3    26\n",
              "4     9\n",
              "Name: price, dtype: int64"
            ]
          },
          "metadata": {},
          "execution_count": 44
        }
      ]
    }
  ]
}